{
 "cells": [
  {
   "cell_type": "markdown",
   "id": "6b278a4d",
   "metadata": {
    "papermill": {
     "duration": 0.013565,
     "end_time": "2023-08-31T05:14:39.899365",
     "exception": false,
     "start_time": "2023-08-31T05:14:39.885800",
     "status": "completed"
    },
    "tags": []
   },
   "source": [
    "# Install Dependencies"
   ]
  },
  {
   "cell_type": "code",
   "execution_count": 1,
   "id": "37cd20f2",
   "metadata": {
    "execution": {
     "iopub.execute_input": "2023-08-31T05:14:39.926959Z",
     "iopub.status.busy": "2023-08-31T05:14:39.926083Z",
     "iopub.status.idle": "2023-08-31T05:14:53.178071Z",
     "shell.execute_reply": "2023-08-31T05:14:53.176816Z"
    },
    "id": "jN5HC9dIi6sa",
    "outputId": "ce2320ef-a221-43ad-9222-6019d5163267",
    "papermill": {
     "duration": 13.268574,
     "end_time": "2023-08-31T05:14:53.180811",
     "exception": false,
     "start_time": "2023-08-31T05:14:39.912237",
     "status": "completed"
    },
    "tags": []
   },
   "outputs": [
    {
     "name": "stdout",
     "output_type": "stream",
     "text": [
      "Requirement already satisfied: torch in /opt/conda/lib/python3.10/site-packages (2.0.0)\r\n",
      "Requirement already satisfied: torchvision in /opt/conda/lib/python3.10/site-packages (0.15.1)\r\n",
      "Requirement already satisfied: tqdm in /opt/conda/lib/python3.10/site-packages (4.65.0)\r\n",
      "Requirement already satisfied: torchmetrics in /opt/conda/lib/python3.10/site-packages (1.0.0)\r\n",
      "Requirement already satisfied: torchinfo in /opt/conda/lib/python3.10/site-packages (1.8.0)\r\n",
      "Requirement already satisfied: numpy in /opt/conda/lib/python3.10/site-packages (1.23.5)\r\n",
      "Requirement already satisfied: pandas in /opt/conda/lib/python3.10/site-packages (1.5.3)\r\n",
      "Requirement already satisfied: matplotlib in /opt/conda/lib/python3.10/site-packages (3.7.1)\r\n",
      "Requirement already satisfied: seaborn in /opt/conda/lib/python3.10/site-packages (0.12.2)\r\n",
      "Collecting watermark\r\n",
      "  Downloading watermark-2.4.3-py2.py3-none-any.whl (7.6 kB)\r\n",
      "Requirement already satisfied: filelock in /opt/conda/lib/python3.10/site-packages (from torch) (3.12.2)\r\n",
      "Requirement already satisfied: typing-extensions in /opt/conda/lib/python3.10/site-packages (from torch) (4.6.3)\r\n",
      "Requirement already satisfied: sympy in /opt/conda/lib/python3.10/site-packages (from torch) (1.12)\r\n",
      "Requirement already satisfied: networkx in /opt/conda/lib/python3.10/site-packages (from torch) (3.1)\r\n",
      "Requirement already satisfied: jinja2 in /opt/conda/lib/python3.10/site-packages (from torch) (3.1.2)\r\n",
      "Requirement already satisfied: requests in /opt/conda/lib/python3.10/site-packages (from torchvision) (2.31.0)\r\n",
      "Requirement already satisfied: pillow!=8.3.*,>=5.3.0 in /opt/conda/lib/python3.10/site-packages (from torchvision) (9.5.0)\r\n",
      "Requirement already satisfied: packaging in /opt/conda/lib/python3.10/site-packages (from torchmetrics) (21.3)\r\n",
      "Requirement already satisfied: lightning-utilities>=0.7.0 in /opt/conda/lib/python3.10/site-packages (from torchmetrics) (0.9.0)\r\n",
      "Requirement already satisfied: python-dateutil>=2.8.1 in /opt/conda/lib/python3.10/site-packages (from pandas) (2.8.2)\r\n",
      "Requirement already satisfied: pytz>=2020.1 in /opt/conda/lib/python3.10/site-packages (from pandas) (2023.3)\r\n",
      "Requirement already satisfied: contourpy>=1.0.1 in /opt/conda/lib/python3.10/site-packages (from matplotlib) (1.1.0)\r\n",
      "Requirement already satisfied: cycler>=0.10 in /opt/conda/lib/python3.10/site-packages (from matplotlib) (0.11.0)\r\n",
      "Requirement already satisfied: fonttools>=4.22.0 in /opt/conda/lib/python3.10/site-packages (from matplotlib) (4.40.0)\r\n",
      "Requirement already satisfied: kiwisolver>=1.0.1 in /opt/conda/lib/python3.10/site-packages (from matplotlib) (1.4.4)\r\n",
      "Requirement already satisfied: pyparsing>=2.3.1 in /opt/conda/lib/python3.10/site-packages (from matplotlib) (3.0.9)\r\n",
      "Requirement already satisfied: ipython>=6.0 in /opt/conda/lib/python3.10/site-packages (from watermark) (8.14.0)\r\n",
      "Requirement already satisfied: importlib-metadata>=1.4 in /opt/conda/lib/python3.10/site-packages (from watermark) (6.7.0)\r\n",
      "Requirement already satisfied: setuptools in /opt/conda/lib/python3.10/site-packages (from watermark) (59.8.0)\r\n",
      "Requirement already satisfied: zipp>=0.5 in /opt/conda/lib/python3.10/site-packages (from importlib-metadata>=1.4->watermark) (3.15.0)\r\n",
      "Requirement already satisfied: backcall in /opt/conda/lib/python3.10/site-packages (from ipython>=6.0->watermark) (0.2.0)\r\n",
      "Requirement already satisfied: decorator in /opt/conda/lib/python3.10/site-packages (from ipython>=6.0->watermark) (5.1.1)\r\n",
      "Requirement already satisfied: jedi>=0.16 in /opt/conda/lib/python3.10/site-packages (from ipython>=6.0->watermark) (0.18.2)\r\n",
      "Requirement already satisfied: matplotlib-inline in /opt/conda/lib/python3.10/site-packages (from ipython>=6.0->watermark) (0.1.6)\r\n",
      "Requirement already satisfied: pickleshare in /opt/conda/lib/python3.10/site-packages (from ipython>=6.0->watermark) (0.7.5)\r\n",
      "Requirement already satisfied: prompt-toolkit!=3.0.37,<3.1.0,>=3.0.30 in /opt/conda/lib/python3.10/site-packages (from ipython>=6.0->watermark) (3.0.38)\r\n",
      "Requirement already satisfied: pygments>=2.4.0 in /opt/conda/lib/python3.10/site-packages (from ipython>=6.0->watermark) (2.15.1)\r\n",
      "Requirement already satisfied: stack-data in /opt/conda/lib/python3.10/site-packages (from ipython>=6.0->watermark) (0.6.2)\r\n",
      "Requirement already satisfied: traitlets>=5 in /opt/conda/lib/python3.10/site-packages (from ipython>=6.0->watermark) (5.9.0)\r\n",
      "Requirement already satisfied: pexpect>4.3 in /opt/conda/lib/python3.10/site-packages (from ipython>=6.0->watermark) (4.8.0)\r\n",
      "Requirement already satisfied: six>=1.5 in /opt/conda/lib/python3.10/site-packages (from python-dateutil>=2.8.1->pandas) (1.16.0)\r\n",
      "Requirement already satisfied: MarkupSafe>=2.0 in /opt/conda/lib/python3.10/site-packages (from jinja2->torch) (2.1.3)\r\n",
      "Requirement already satisfied: charset-normalizer<4,>=2 in /opt/conda/lib/python3.10/site-packages (from requests->torchvision) (3.1.0)\r\n",
      "Requirement already satisfied: idna<4,>=2.5 in /opt/conda/lib/python3.10/site-packages (from requests->torchvision) (3.4)\r\n",
      "Requirement already satisfied: urllib3<3,>=1.21.1 in /opt/conda/lib/python3.10/site-packages (from requests->torchvision) (1.26.15)\r\n",
      "Requirement already satisfied: certifi>=2017.4.17 in /opt/conda/lib/python3.10/site-packages (from requests->torchvision) (2023.5.7)\r\n",
      "Requirement already satisfied: mpmath>=0.19 in /opt/conda/lib/python3.10/site-packages (from sympy->torch) (1.3.0)\r\n",
      "Requirement already satisfied: parso<0.9.0,>=0.8.0 in /opt/conda/lib/python3.10/site-packages (from jedi>=0.16->ipython>=6.0->watermark) (0.8.3)\r\n",
      "Requirement already satisfied: ptyprocess>=0.5 in /opt/conda/lib/python3.10/site-packages (from pexpect>4.3->ipython>=6.0->watermark) (0.7.0)\r\n",
      "Requirement already satisfied: wcwidth in /opt/conda/lib/python3.10/site-packages (from prompt-toolkit!=3.0.37,<3.1.0,>=3.0.30->ipython>=6.0->watermark) (0.2.6)\r\n",
      "Requirement already satisfied: executing>=1.2.0 in /opt/conda/lib/python3.10/site-packages (from stack-data->ipython>=6.0->watermark) (1.2.0)\r\n",
      "Requirement already satisfied: asttokens>=2.1.0 in /opt/conda/lib/python3.10/site-packages (from stack-data->ipython>=6.0->watermark) (2.2.1)\r\n",
      "Requirement already satisfied: pure-eval in /opt/conda/lib/python3.10/site-packages (from stack-data->ipython>=6.0->watermark) (0.2.2)\r\n",
      "Installing collected packages: watermark\r\n",
      "Successfully installed watermark-2.4.3\r\n"
     ]
    }
   ],
   "source": [
    "!pip install torch torchvision tqdm torchmetrics torchinfo numpy pandas matplotlib seaborn watermark"
   ]
  },
  {
   "cell_type": "markdown",
   "id": "0a53d76e",
   "metadata": {
    "papermill": {
     "duration": 0.014561,
     "end_time": "2023-08-31T05:14:53.210758",
     "exception": false,
     "start_time": "2023-08-31T05:14:53.196197",
     "status": "completed"
    },
    "tags": []
   },
   "source": [
    "# System and Packages"
   ]
  },
  {
   "cell_type": "code",
   "execution_count": 2,
   "id": "13051b92",
   "metadata": {
    "execution": {
     "iopub.execute_input": "2023-08-31T05:14:53.241227Z",
     "iopub.status.busy": "2023-08-31T05:14:53.240892Z",
     "iopub.status.idle": "2023-08-31T05:15:07.528575Z",
     "shell.execute_reply": "2023-08-31T05:15:07.527013Z"
    },
    "papermill": {
     "duration": 14.306067,
     "end_time": "2023-08-31T05:15:07.531250",
     "exception": false,
     "start_time": "2023-08-31T05:14:53.225183",
     "status": "completed"
    },
    "tags": []
   },
   "outputs": [
    {
     "name": "stderr",
     "output_type": "stream",
     "text": [
      "/opt/conda/lib/python3.10/site-packages/scipy/__init__.py:146: UserWarning: A NumPy version >=1.16.5 and <1.23.0 is required for this version of SciPy (detected version 1.23.5\n",
      "  warnings.warn(f\"A NumPy version >={np_minversion} and <{np_maxversion}\"\n",
      "/opt/conda/lib/python3.10/site-packages/tensorflow_io/python/ops/__init__.py:98: UserWarning: unable to load libtensorflow_io_plugins.so: unable to open file: libtensorflow_io_plugins.so, from paths: ['/opt/conda/lib/python3.10/site-packages/tensorflow_io/python/ops/libtensorflow_io_plugins.so']\n",
      "caused by: ['/opt/conda/lib/python3.10/site-packages/tensorflow_io/python/ops/libtensorflow_io_plugins.so: undefined symbol: _ZN3tsl6StatusC1EN10tensorflow5error4CodeESt17basic_string_viewIcSt11char_traitsIcEENS_14SourceLocationE']\n",
      "  warnings.warn(f\"unable to load libtensorflow_io_plugins.so: {e}\")\n",
      "/opt/conda/lib/python3.10/site-packages/tensorflow_io/python/ops/__init__.py:104: UserWarning: file system plugins are not loaded: unable to open file: libtensorflow_io.so, from paths: ['/opt/conda/lib/python3.10/site-packages/tensorflow_io/python/ops/libtensorflow_io.so']\n",
      "caused by: ['/opt/conda/lib/python3.10/site-packages/tensorflow_io/python/ops/libtensorflow_io.so: undefined symbol: _ZTVN10tensorflow13GcsFileSystemE']\n",
      "  warnings.warn(f\"file system plugins are not loaded: {e}\")\n"
     ]
    },
    {
     "name": "stdout",
     "output_type": "stream",
     "text": [
      "Author: Pushpakant Behera\n",
      "\n",
      "Python implementation: CPython\n",
      "Python version       : 3.10.12\n",
      "IPython version      : 8.14.0\n",
      "\n",
      "torch       : 2.0.0\n",
      "torchvision : 0.15.1\n",
      "tqdm        : 4.65.0\n",
      "torchmetrics: 1.0.0\n",
      "torchinfo   : 1.8.0\n",
      "numpy       : 1.23.5\n",
      "pandas      : 1.5.3\n",
      "matplotlib  : 3.7.2\n",
      "seaborn     : 0.12.2\n",
      "\n",
      "Compiler    : GCC 12.3.0\n",
      "OS          : Linux\n",
      "Release     : 5.15.120+\n",
      "Machine     : x86_64\n",
      "Processor   : x86_64\n",
      "CPU cores   : 2\n",
      "Architecture: 64bit\n",
      "\n"
     ]
    }
   ],
   "source": [
    "%load_ext watermark\n",
    "%reload_ext watermark\n",
    "%watermark -a 'Pushpakant Behera' -m -v -p torch,torchvision,tqdm,torchmetrics,torchinfo,numpy,pandas,matplotlib,seaborn"
   ]
  },
  {
   "cell_type": "markdown",
   "id": "8ce40ba6",
   "metadata": {
    "papermill": {
     "duration": 0.01513,
     "end_time": "2023-08-31T05:15:07.561324",
     "exception": false,
     "start_time": "2023-08-31T05:15:07.546194",
     "status": "completed"
    },
    "tags": []
   },
   "source": [
    "# Imports"
   ]
  },
  {
   "cell_type": "code",
   "execution_count": 3,
   "id": "074e2f0c",
   "metadata": {
    "execution": {
     "iopub.execute_input": "2023-08-31T05:15:07.591966Z",
     "iopub.status.busy": "2023-08-31T05:15:07.591662Z",
     "iopub.status.idle": "2023-08-31T05:15:07.603125Z",
     "shell.execute_reply": "2023-08-31T05:15:07.602119Z"
    },
    "id": "s7qQa_6h7N0M",
    "outputId": "834ec6bd-616c-4da9-dc66-9b326a6a3013",
    "papermill": {
     "duration": 0.029855,
     "end_time": "2023-08-31T05:15:07.605590",
     "exception": false,
     "start_time": "2023-08-31T05:15:07.575735",
     "status": "completed"
    },
    "tags": []
   },
   "outputs": [],
   "source": [
    "import os\n",
    "\n",
    "import numpy as np\n",
    "import pandas as pd\n",
    "import matplotlib.pyplot as plt\n",
    "import seaborn as sns\n",
    "\n",
    "import torch\n",
    "import torch.nn as nn\n",
    "import torch.nn.functional as F\n",
    "import torch.optim as optim\n",
    "from torch.utils.data import DataLoader, Dataset, TensorDataset, random_split\n",
    "from torchvision.utils import make_grid\n",
    "\n",
    "import torchvision\n",
    "import torchvision.transforms as transforms\n",
    "\n",
    "import torchmetrics\n",
    "from torchmetrics import MetricCollection\n",
    "from torchmetrics.classification import MulticlassAccuracy, MulticlassPrecision,\\\n",
    "                                        MulticlassRecall, MulticlassPrecisionRecallCurve, MulticlassConfusionMatrix,\\\n",
    "                                        MulticlassF1Score, MulticlassFBetaScore, MulticlassRecall, MulticlassROC\n",
    "\n",
    "from tqdm.auto import tqdm\n",
    "from torchinfo import summary\n",
    "\n",
    "%matplotlib inline\n",
    "sns.set()"
   ]
  },
  {
   "cell_type": "markdown",
   "id": "3737f490",
   "metadata": {
    "papermill": {
     "duration": 0.030448,
     "end_time": "2023-08-31T05:15:07.661811",
     "exception": false,
     "start_time": "2023-08-31T05:15:07.631363",
     "status": "completed"
    },
    "tags": []
   },
   "source": [
    "# Configuration"
   ]
  },
  {
   "cell_type": "code",
   "execution_count": 4,
   "id": "1ce8446c",
   "metadata": {
    "execution": {
     "iopub.execute_input": "2023-08-31T05:15:07.713811Z",
     "iopub.status.busy": "2023-08-31T05:15:07.713440Z",
     "iopub.status.idle": "2023-08-31T05:15:07.781976Z",
     "shell.execute_reply": "2023-08-31T05:15:07.781030Z"
    },
    "papermill": {
     "duration": 0.092165,
     "end_time": "2023-08-31T05:15:07.784243",
     "exception": false,
     "start_time": "2023-08-31T05:15:07.692078",
     "status": "completed"
    },
    "tags": []
   },
   "outputs": [],
   "source": [
    "DEVICE_TYPE = 'cuda' if torch.cuda.is_available() else 'cpu'\n",
    "DEVICE = torch.device(DEVICE_TYPE)\n",
    "\n",
    "EPOCHS = 32\n",
    "BATCH_SIZE = 8\n",
    "# LEARNING_RATE = 3e-4 # karapathy constant\n",
    "LEARNING_RATE = 1e-2\n",
    "SCHEDULER_STEP_SIZE = EPOCHS * 0.2\n",
    "WEIGHT_DECAY = 1e-6\n",
    "MOMENTUM = 0.9\n",
    "\n",
    "CHANNELS = 1\n",
    "WIDTH = 28\n",
    "HEIGHT = 28\n",
    "CLASSES = 10\n",
    "\n",
    "TRAIN_VALID_RATIO = 0.9\n",
    "\n",
    "RANDOM_SEED = 42\n",
    "torch.manual_seed(RANDOM_SEED)\n",
    "torch.cuda.manual_seed_all(RANDOM_SEED)\n",
    "\n",
    "torch.cuda.empty_cache()"
   ]
  },
  {
   "cell_type": "markdown",
   "id": "fab2ceb5",
   "metadata": {
    "papermill": {
     "duration": 0.0149,
     "end_time": "2023-08-31T05:15:07.814153",
     "exception": false,
     "start_time": "2023-08-31T05:15:07.799253",
     "status": "completed"
    },
    "tags": []
   },
   "source": [
    "# Preparing Data"
   ]
  },
  {
   "cell_type": "code",
   "execution_count": 5,
   "id": "a7d9819b",
   "metadata": {
    "execution": {
     "iopub.execute_input": "2023-08-31T05:15:07.845026Z",
     "iopub.status.busy": "2023-08-31T05:15:07.844075Z",
     "iopub.status.idle": "2023-08-31T05:15:07.852864Z",
     "shell.execute_reply": "2023-08-31T05:15:07.851809Z"
    },
    "id": "6yHBv7BO7N0P",
    "papermill": {
     "duration": 0.026138,
     "end_time": "2023-08-31T05:15:07.854889",
     "exception": false,
     "start_time": "2023-08-31T05:15:07.828751",
     "status": "completed"
    },
    "tags": []
   },
   "outputs": [],
   "source": [
    "train_transform = transforms.Compose([\n",
    "  transforms.RandomChoice([transforms.RandomRotation(degrees=20),\n",
    "                           transforms.RandomAffine(degrees=0, translate=(0.1, 0.1)),\n",
    "                           transforms.RandomAffine(degrees=0, scale=(0.5, 1.25)),\n",
    "                           transforms.RandomAffine(degrees=0, shear=(-10, 10, -10, 10)),\n",
    "                           transforms.GaussianBlur(kernel_size=(3,5), sigma=(0.1, 2)),\n",
    "                           transforms.TrivialAugmentWide(),\n",
    "  ], p=[0.3, 0.3, 0.2, 0.2, 0.1, 0.1]),\n",
    "  transforms.RandomAdjustSharpness(sharpness_factor=2, p=0.4),\n",
    "  transforms.RandomPerspective(distortion_scale=0.05, p=0.2),\n",
    "  transforms.ToTensor(),\n",
    "  transforms.Normalize(0.1307, 0.3081)\n",
    "])\n",
    "\n",
    "test_transform = transforms.Compose([\n",
    "  transforms.ToTensor(),\n",
    "  transforms.Normalize(0.1307, 0.3081)\n",
    "])"
   ]
  },
  {
   "cell_type": "code",
   "execution_count": 6,
   "id": "ea45bb78",
   "metadata": {
    "execution": {
     "iopub.execute_input": "2023-08-31T05:15:07.885638Z",
     "iopub.status.busy": "2023-08-31T05:15:07.884825Z",
     "iopub.status.idle": "2023-08-31T05:15:08.774808Z",
     "shell.execute_reply": "2023-08-31T05:15:08.773829Z"
    },
    "id": "jqfKO3zG7N0R",
    "papermill": {
     "duration": 0.907994,
     "end_time": "2023-08-31T05:15:08.777182",
     "exception": false,
     "start_time": "2023-08-31T05:15:07.869188",
     "status": "completed"
    },
    "tags": []
   },
   "outputs": [
    {
     "name": "stdout",
     "output_type": "stream",
     "text": [
      "Downloading http://yann.lecun.com/exdb/mnist/train-images-idx3-ubyte.gz\n",
      "Downloading http://yann.lecun.com/exdb/mnist/train-images-idx3-ubyte.gz to ./dataset/MNIST/raw/train-images-idx3-ubyte.gz\n"
     ]
    },
    {
     "name": "stderr",
     "output_type": "stream",
     "text": [
      "100%|██████████| 9912422/9912422 [00:00<00:00, 67559939.62it/s]\n"
     ]
    },
    {
     "name": "stdout",
     "output_type": "stream",
     "text": [
      "Extracting ./dataset/MNIST/raw/train-images-idx3-ubyte.gz to ./dataset/MNIST/raw\n",
      "\n",
      "Downloading http://yann.lecun.com/exdb/mnist/train-labels-idx1-ubyte.gz\n",
      "Downloading http://yann.lecun.com/exdb/mnist/train-labels-idx1-ubyte.gz to ./dataset/MNIST/raw/train-labels-idx1-ubyte.gz\n"
     ]
    },
    {
     "name": "stderr",
     "output_type": "stream",
     "text": [
      "100%|██████████| 28881/28881 [00:00<00:00, 31911405.12it/s]\n"
     ]
    },
    {
     "name": "stdout",
     "output_type": "stream",
     "text": [
      "Extracting ./dataset/MNIST/raw/train-labels-idx1-ubyte.gz to ./dataset/MNIST/raw\n",
      "\n",
      "Downloading http://yann.lecun.com/exdb/mnist/t10k-images-idx3-ubyte.gz\n",
      "Downloading http://yann.lecun.com/exdb/mnist/t10k-images-idx3-ubyte.gz to ./dataset/MNIST/raw/t10k-images-idx3-ubyte.gz\n"
     ]
    },
    {
     "name": "stderr",
     "output_type": "stream",
     "text": [
      "100%|██████████| 1648877/1648877 [00:00<00:00, 74918660.59it/s]"
     ]
    },
    {
     "name": "stdout",
     "output_type": "stream",
     "text": [
      "Extracting ./dataset/MNIST/raw/t10k-images-idx3-ubyte.gz to ./dataset/MNIST/raw\n",
      "\n",
      "Downloading http://yann.lecun.com/exdb/mnist/t10k-labels-idx1-ubyte.gz\n"
     ]
    },
    {
     "name": "stderr",
     "output_type": "stream",
     "text": [
      "\n"
     ]
    },
    {
     "name": "stdout",
     "output_type": "stream",
     "text": [
      "Downloading http://yann.lecun.com/exdb/mnist/t10k-labels-idx1-ubyte.gz to ./dataset/MNIST/raw/t10k-labels-idx1-ubyte.gz\n"
     ]
    },
    {
     "name": "stderr",
     "output_type": "stream",
     "text": [
      "100%|██████████| 4542/4542 [00:00<00:00, 5876165.57it/s]\n"
     ]
    },
    {
     "name": "stdout",
     "output_type": "stream",
     "text": [
      "Extracting ./dataset/MNIST/raw/t10k-labels-idx1-ubyte.gz to ./dataset/MNIST/raw\n",
      "\n"
     ]
    }
   ],
   "source": [
    "train_valid_dataset = torchvision.datasets.MNIST(root='./dataset', train=True, download=True, transform=train_transform)\n",
    "\n",
    "train_set_size = int(len(train_valid_dataset) * 0.8)\n",
    "valid_set_size = len(train_valid_dataset) - train_set_size\n",
    "\n",
    "train_dataset, valid_dataset = random_split(train_valid_dataset, [train_set_size, valid_set_size])\n",
    "test_dataset = torchvision.datasets.MNIST(root='./dataset', train=False, download=True, transform=test_transform)"
   ]
  },
  {
   "cell_type": "code",
   "execution_count": 7,
   "id": "80a33876",
   "metadata": {
    "execution": {
     "iopub.execute_input": "2023-08-31T05:15:08.811724Z",
     "iopub.status.busy": "2023-08-31T05:15:08.810884Z",
     "iopub.status.idle": "2023-08-31T05:15:08.817359Z",
     "shell.execute_reply": "2023-08-31T05:15:08.816317Z"
    },
    "id": "bOpQ2Xh87N0T",
    "papermill": {
     "duration": 0.02554,
     "end_time": "2023-08-31T05:15:08.819324",
     "exception": false,
     "start_time": "2023-08-31T05:15:08.793784",
     "status": "completed"
    },
    "tags": []
   },
   "outputs": [],
   "source": [
    "train_loader = DataLoader(train_dataset, batch_size=BATCH_SIZE, shuffle=True, num_workers=os.cpu_count(), pin_memory=True, drop_last=True)\n",
    "valid_loader = DataLoader(valid_dataset, batch_size=BATCH_SIZE, shuffle=True, num_workers=os.cpu_count(), pin_memory=True, drop_last=True)\n",
    "test_loader = DataLoader(test_dataset, batch_size=BATCH_SIZE, shuffle=False, num_workers=os.cpu_count(), pin_memory=True)"
   ]
  },
  {
   "cell_type": "markdown",
   "id": "84e80692",
   "metadata": {
    "papermill": {
     "duration": 0.015873,
     "end_time": "2023-08-31T05:15:08.851555",
     "exception": false,
     "start_time": "2023-08-31T05:15:08.835682",
     "status": "completed"
    },
    "tags": []
   },
   "source": [
    "# Visualizing Data"
   ]
  },
  {
   "cell_type": "code",
   "execution_count": 8,
   "id": "f1dc1cb1",
   "metadata": {
    "execution": {
     "iopub.execute_input": "2023-08-31T05:15:08.886246Z",
     "iopub.status.busy": "2023-08-31T05:15:08.885401Z",
     "iopub.status.idle": "2023-08-31T05:15:09.274898Z",
     "shell.execute_reply": "2023-08-31T05:15:09.273514Z"
    },
    "id": "gIOeaQPp7N0S",
    "outputId": "2b1f4f27-70db-4771-b167-07316f6ae647",
    "papermill": {
     "duration": 0.409766,
     "end_time": "2023-08-31T05:15:09.277524",
     "exception": false,
     "start_time": "2023-08-31T05:15:08.867758",
     "status": "completed"
    },
    "tags": []
   },
   "outputs": [
    {
     "data": {
      "image/png": "[encoded data removed]",
      "text/plain": [
       "<Figure size 2000x1000 with 1 Axes>"
      ]
     },
     "metadata": {},
     "output_type": "display_data"
    }
   ],
   "source": [
    "images, labels = zip(*[train_dataset[i] for i in range(10)])\n",
    "\n",
    "images = torch.stack(images)\n",
    "\n",
    "fig, ax = plt.subplots(figsize=(20, 10))\n",
    "grid = make_grid(images, nrow=10, )\n",
    "\n",
    "plt.title(labels)\n",
    "plt.imshow(grid.numpy().transpose((1, 2, 0)))\n",
    "plt.axis('off')\n",
    "plt.show()"
   ]
  },
  {
   "cell_type": "markdown",
   "id": "71ee43a1",
   "metadata": {
    "papermill": {
     "duration": 0.016319,
     "end_time": "2023-08-31T05:15:09.311144",
     "exception": false,
     "start_time": "2023-08-31T05:15:09.294825",
     "status": "completed"
    },
    "tags": []
   },
   "source": [
    "# Model, Loss Function, Optimizer and Scheduler"
   ]
  },
  {
   "cell_type": "code",
   "execution_count": 9,
   "id": "7cad2ea5",
   "metadata": {
    "execution": {
     "iopub.execute_input": "2023-08-31T05:15:09.346417Z",
     "iopub.status.busy": "2023-08-31T05:15:09.346129Z",
     "iopub.status.idle": "2023-08-31T05:15:18.462315Z",
     "shell.execute_reply": "2023-08-31T05:15:18.461379Z"
    },
    "id": "hTRWAKe37N0V",
    "outputId": "5ff3d20b-8ecc-4b52-9ab6-d40c530f61c8",
    "papermill": {
     "duration": 9.136316,
     "end_time": "2023-08-31T05:15:18.464611",
     "exception": false,
     "start_time": "2023-08-31T05:15:09.328295",
     "status": "completed"
    },
    "tags": []
   },
   "outputs": [
    {
     "data": {
      "text/plain": [
       "==========================================================================================\n",
       "Layer (type:depth-idx)                   Output Shape              Param #\n",
       "==========================================================================================\n",
       "MNISTClassifier                          [8, 10]                   --\n",
       "├─Sequential: 1-1                        [8, 32, 14, 14]           --\n",
       "│    └─Conv2d: 2-1                       [8, 32, 28, 28]           288\n",
       "│    └─BatchNorm2d: 2-2                  [8, 32, 28, 28]           64\n",
       "│    └─ReLU: 2-3                         [8, 32, 28, 28]           --\n",
       "│    └─MaxPool2d: 2-4                    [8, 32, 14, 14]           --\n",
       "├─Sequential: 1-2                        [8, 64, 7, 7]             --\n",
       "│    └─Conv2d: 2-5                       [8, 64, 14, 14]           18,432\n",
       "│    └─BatchNorm2d: 2-6                  [8, 64, 14, 14]           128\n",
       "│    └─LeakyReLU: 2-7                    [8, 64, 14, 14]           --\n",
       "│    └─MaxPool2d: 2-8                    [8, 64, 7, 7]             --\n",
       "├─Sequential: 1-3                        [8, 128, 7, 7]            --\n",
       "│    └─Conv2d: 2-9                       [8, 128, 7, 7]            73,728\n",
       "│    └─BatchNorm2d: 2-10                 [8, 128, 7, 7]            256\n",
       "│    └─LeakyReLU: 2-11                   [8, 128, 7, 7]            --\n",
       "├─Sequential: 1-4                        [8, 10]                   --\n",
       "│    └─Linear: 2-12                      [8, 384]                  2,408,448\n",
       "│    └─BatchNorm1d: 2-13                 [8, 384]                  768\n",
       "│    └─Dropout: 2-14                     [8, 384]                  --\n",
       "│    └─LeakyReLU: 2-15                   [8, 384]                  --\n",
       "│    └─Linear: 2-16                      [8, 128]                  49,152\n",
       "│    └─BatchNorm1d: 2-17                 [8, 128]                  256\n",
       "│    └─Dropout: 2-18                     [8, 128]                  --\n",
       "│    └─LeakyReLU: 2-19                   [8, 128]                  --\n",
       "│    └─Linear: 2-20                      [8, 10]                   1,290\n",
       "==========================================================================================\n",
       "Total params: 2,552,810\n",
       "Trainable params: 2,552,810\n",
       "Non-trainable params: 0\n",
       "Total mult-adds (M): 79.29\n",
       "==========================================================================================\n",
       "Input size (MB): 0.03\n",
       "Forward/backward pass size (MB): 5.69\n",
       "Params size (MB): 10.21\n",
       "Estimated Total Size (MB): 15.92\n",
       "=========================================================================================="
      ]
     },
     "execution_count": 9,
     "metadata": {},
     "output_type": "execute_result"
    }
   ],
   "source": [
    "class MNISTClassifier(nn.Module):\n",
    "  def __init__(self, channels, classes, dropout_rate):\n",
    "    super(MNISTClassifier, self).__init__()\n",
    "    self.conv1 = nn.Sequential(\n",
    "        nn.Conv2d(\n",
    "            in_channels=channels,\n",
    "            out_channels=32,\n",
    "            kernel_size=3,\n",
    "            stride=1,\n",
    "            padding=1,\n",
    "            bias=False\n",
    "        ),\n",
    "        nn.BatchNorm2d(num_features=32),\n",
    "        nn.ReLU(inplace=True),\n",
    "        nn.MaxPool2d(kernel_size=(2, 2), stride=2)\n",
    "    )\n",
    "    \n",
    "    self.conv2 = nn.Sequential(\n",
    "        nn.Conv2d(\n",
    "            in_channels=32,\n",
    "            out_channels=64,\n",
    "            kernel_size=3,\n",
    "            stride=1,\n",
    "            padding=1,\n",
    "            bias=False\n",
    "        ),\n",
    "        nn.BatchNorm2d(num_features=64),\n",
    "        nn.LeakyReLU(0.1, True),\n",
    "        nn.MaxPool2d(kernel_size=(2, 2), stride=2)\n",
    "    )\n",
    "    \n",
    "    self.conv3 = nn.Sequential(\n",
    "        nn.Conv2d(\n",
    "            in_channels=64,\n",
    "            out_channels=128, \n",
    "            kernel_size=3, \n",
    "            stride=1, \n",
    "            padding=1, \n",
    "            bias=False\n",
    "        ),\n",
    "        nn.BatchNorm2d(num_features=128),\n",
    "        nn.LeakyReLU(0.1, True)\n",
    "    )\n",
    "    \n",
    "    self.classifier = nn.Sequential(\n",
    "        nn.Linear(\n",
    "            in_features=128 * 7 * 7,\n",
    "            out_features=128 * 3,\n",
    "            bias=False\n",
    "        ),\n",
    "        nn.BatchNorm1d(num_features=128 * 3),\n",
    "        nn.Dropout(dropout_rate),\n",
    "        nn.LeakyReLU(0.1, True),\n",
    "        \n",
    "        nn.Linear(\n",
    "            in_features=128 * 3, \n",
    "            out_features=128, \n",
    "            bias=False\n",
    "        ),\n",
    "        nn.BatchNorm1d(num_features=128),\n",
    "        nn.Dropout(dropout_rate),\n",
    "        nn.LeakyReLU(0.1, True),\n",
    "        \n",
    "        nn.Linear(in_features=128, out_features=classes),\n",
    "    )\n",
    "\n",
    "  def forward(self, x):\n",
    "    x = self.conv1(x)\n",
    "    x = self.conv2(x)\n",
    "    x = self.conv3(x)\n",
    "    \n",
    "    # x = torch.flatten(x, start_dim=1)\n",
    "    x = x.view(x.shape[0], -1) # this is inplace, first parameter is batch size\n",
    "    \n",
    "    x = self.classifier(x)\n",
    "    return x\n",
    "\n",
    "summary(model=MNISTClassifier(channels=CHANNELS, classes=CLASSES, dropout_rate=0.5), input_size=[BATCH_SIZE, 1, WIDTH, HEIGHT])"
   ]
  },
  {
   "cell_type": "code",
   "execution_count": 10,
   "id": "0798ed81",
   "metadata": {
    "execution": {
     "iopub.execute_input": "2023-08-31T05:15:18.500868Z",
     "iopub.status.busy": "2023-08-31T05:15:18.499154Z",
     "iopub.status.idle": "2023-08-31T05:15:18.531769Z",
     "shell.execute_reply": "2023-08-31T05:15:18.530895Z"
    },
    "id": "xZn2LaVY7N0V",
    "papermill": {
     "duration": 0.052396,
     "end_time": "2023-08-31T05:15:18.533836",
     "exception": false,
     "start_time": "2023-08-31T05:15:18.481440",
     "status": "completed"
    },
    "tags": []
   },
   "outputs": [],
   "source": [
    "model = MNISTClassifier(channels=CHANNELS, classes=CLASSES, dropout_rate=0.1).to(DEVICE)\n",
    "criterion = nn.CrossEntropyLoss()\n",
    "optimizer = optim.SGD(model.parameters(), lr=LEARNING_RATE, momentum=MOMENTUM, weight_decay=WEIGHT_DECAY)\n",
    "scheduler = optim.lr_scheduler.StepLR(optimizer, step_size=SCHEDULER_STEP_SIZE, gamma=0.1)\n",
    "scaler = torch.cuda.amp.GradScaler()"
   ]
  },
  {
   "cell_type": "markdown",
   "id": "bfccfd61",
   "metadata": {
    "papermill": {
     "duration": 0.016232,
     "end_time": "2023-08-31T05:15:18.566842",
     "exception": false,
     "start_time": "2023-08-31T05:15:18.550610",
     "status": "completed"
    },
    "tags": []
   },
   "source": [
    "# Metrics Initialization"
   ]
  },
  {
   "cell_type": "code",
   "execution_count": 11,
   "id": "1fe9c2aa",
   "metadata": {
    "execution": {
     "iopub.execute_input": "2023-08-31T05:15:18.601324Z",
     "iopub.status.busy": "2023-08-31T05:15:18.601040Z",
     "iopub.status.idle": "2023-08-31T05:15:18.622294Z",
     "shell.execute_reply": "2023-08-31T05:15:18.621398Z"
    },
    "papermill": {
     "duration": 0.040988,
     "end_time": "2023-08-31T05:15:18.624332",
     "exception": false,
     "start_time": "2023-08-31T05:15:18.583344",
     "status": "completed"
    },
    "tags": []
   },
   "outputs": [],
   "source": [
    "train_metrics_coll = MetricCollection([\n",
    "    MulticlassAccuracy(num_classes=CLASSES, average=\"micro\"),\n",
    "    MulticlassPrecision(num_classes=CLASSES, average=\"macro\"),\n",
    "    MulticlassRecall(num_classes=CLASSES, average=\"macro\"),\n",
    "    MulticlassFBetaScore(num_classes=CLASSES, beta=2.0),\n",
    "]).to(DEVICE)\n",
    "\n",
    "valid_metrics_coll = MetricCollection([\n",
    "    MulticlassAccuracy(num_classes=CLASSES, average=\"micro\"),\n",
    "    MulticlassPrecision(num_classes=CLASSES, average=\"macro\"),\n",
    "    MulticlassRecall(num_classes=CLASSES, average=\"macro\"),\n",
    "    MulticlassFBetaScore(num_classes=CLASSES, beta=2.0),\n",
    "]).to(DEVICE)\n",
    "\n",
    "test_metrics_coll = MetricCollection([\n",
    "    MulticlassAccuracy(num_classes=CLASSES, average=\"micro\"),\n",
    "    MulticlassPrecision(num_classes=CLASSES, average=\"macro\"),\n",
    "    MulticlassRecall(num_classes=CLASSES, average=\"macro\"),\n",
    "    MulticlassFBetaScore(num_classes=CLASSES, beta=2.0),\n",
    "    MulticlassConfusionMatrix(num_classes=CLASSES),\n",
    "]).to(DEVICE)\n",
    "\n",
    "train_metrics = []\n",
    "valid_metrics = []\n",
    "test_metrics = []\n",
    "\n",
    "train_metrics_vals = {\n",
    "    'accuracy': [],\n",
    "    'precision': [],\n",
    "    'recall': [],\n",
    "    'fBetaScore': [],\n",
    "    'loss': []\n",
    "}\n",
    "\n",
    "valid_metrics_vals = {\n",
    "    'accuracy': [],\n",
    "    'precision': [],\n",
    "    'recall': [],\n",
    "    'fBetaScore': [],\n",
    "    'loss': []\n",
    "}\n",
    "\n",
    "test_metrics_vals = {\n",
    "    'accuracy': [],\n",
    "    'precision': [],\n",
    "    'recall': [],\n",
    "    'fBetaScore': [],\n",
    "    'loss': []\n",
    "}"
   ]
  },
  {
   "cell_type": "markdown",
   "id": "d2f4d728",
   "metadata": {
    "papermill": {
     "duration": 0.016378,
     "end_time": "2023-08-31T05:15:18.658125",
     "exception": false,
     "start_time": "2023-08-31T05:15:18.641747",
     "status": "completed"
    },
    "tags": []
   },
   "source": [
    "# Training, Validating and Testing function definition"
   ]
  },
  {
   "cell_type": "code",
   "execution_count": 12,
   "id": "2b5aa88a",
   "metadata": {
    "execution": {
     "iopub.execute_input": "2023-08-31T05:15:18.693302Z",
     "iopub.status.busy": "2023-08-31T05:15:18.692549Z",
     "iopub.status.idle": "2023-08-31T05:15:18.700332Z",
     "shell.execute_reply": "2023-08-31T05:15:18.699488Z"
    },
    "papermill": {
     "duration": 0.027947,
     "end_time": "2023-08-31T05:15:18.702554",
     "exception": false,
     "start_time": "2023-08-31T05:15:18.674607",
     "status": "completed"
    },
    "tags": []
   },
   "outputs": [],
   "source": [
    "def train(train_loader, model, criterion, optimizer, train_metrics_coll):\n",
    "  train_loss = 0.0\n",
    "  for i, (images, labels) in enumerate(train_loader):\n",
    "    images, labels = images.to(DEVICE), labels.to(DEVICE)\n",
    "\n",
    "    with torch.autocast(device_type=DEVICE_TYPE, dtype=torch.float16):\n",
    "        outputs = model(images)\n",
    "        loss = criterion(outputs, labels)\n",
    "\n",
    "    scaler.scale(loss).backward()\n",
    "    scaler.step(optimizer)\n",
    "    scaler.update()\n",
    "    \n",
    "    model.zero_grad() # can use optimizer.zero_grad() as optimizer here is trying to optimize the model parameters \n",
    "    \n",
    "    train_loss += loss.item()\n",
    "    _, prediction = torch.max(outputs.data, 1)\n",
    "\n",
    "    batch_metrics = train_metrics_coll.update(outputs, labels)\n",
    "  \n",
    "  train_loss /= len(train_loader)\n",
    "  return train_loss"
   ]
  },
  {
   "cell_type": "code",
   "execution_count": 13,
   "id": "ab40939c",
   "metadata": {
    "execution": {
     "iopub.execute_input": "2023-08-31T05:15:18.737178Z",
     "iopub.status.busy": "2023-08-31T05:15:18.736328Z",
     "iopub.status.idle": "2023-08-31T05:15:18.743024Z",
     "shell.execute_reply": "2023-08-31T05:15:18.742181Z"
    },
    "papermill": {
     "duration": 0.026022,
     "end_time": "2023-08-31T05:15:18.745005",
     "exception": false,
     "start_time": "2023-08-31T05:15:18.718983",
     "status": "completed"
    },
    "tags": []
   },
   "outputs": [],
   "source": [
    "@torch.inference_mode()\n",
    "def valid(valid_loader, model, criterion, valid_metrics_coll):\n",
    "  valid_loss = 0.0\n",
    "  for i, (images, labels) in enumerate(valid_loader):\n",
    "    images, labels = images.to(DEVICE), labels.to(DEVICE)\n",
    "\n",
    "    outputs = model(images)\n",
    "    loss = criterion(outputs, labels)\n",
    "\n",
    "    valid_loss += loss.item()\n",
    "    _, prediction = torch.max(outputs.data, 1)\n",
    "\n",
    "    batch_metrics = valid_metrics_coll.update(outputs, labels)\n",
    "    \n",
    "  valid_loss /= len(valid_loader)\n",
    "  return valid_loss"
   ]
  },
  {
   "cell_type": "code",
   "execution_count": 14,
   "id": "203cdd0e",
   "metadata": {
    "execution": {
     "iopub.execute_input": "2023-08-31T05:15:18.781892Z",
     "iopub.status.busy": "2023-08-31T05:15:18.781069Z",
     "iopub.status.idle": "2023-08-31T05:15:18.787708Z",
     "shell.execute_reply": "2023-08-31T05:15:18.786827Z"
    },
    "papermill": {
     "duration": 0.026453,
     "end_time": "2023-08-31T05:15:18.789686",
     "exception": false,
     "start_time": "2023-08-31T05:15:18.763233",
     "status": "completed"
    },
    "tags": []
   },
   "outputs": [],
   "source": [
    "@torch.inference_mode()\n",
    "def test(test_loader, model, criterion, test_metrics_coll):\n",
    "  test_loss = 0.0\n",
    "  for i, (images, labels) in enumerate(test_loader):\n",
    "    images, labels = images.to(DEVICE), labels.to(DEVICE)\n",
    "\n",
    "    outputs = model(images)\n",
    "    loss = criterion(outputs, labels)\n",
    "\n",
    "    test_loss += loss.item()\n",
    "    _, prediction = torch.max(outputs.data, 1)\n",
    "\n",
    "    batch_metrics = test_metrics_coll.update(outputs, labels)\n",
    "    \n",
    "  test_loss /= len(test_loader)\n",
    "  return test_loss"
   ]
  },
  {
   "cell_type": "markdown",
   "id": "06c40482",
   "metadata": {
    "papermill": {
     "duration": 0.016531,
     "end_time": "2023-08-31T05:15:18.822520",
     "exception": false,
     "start_time": "2023-08-31T05:15:18.805989",
     "status": "completed"
    },
    "tags": []
   },
   "source": [
    "# Training and Validation"
   ]
  },
  {
   "cell_type": "code",
   "execution_count": 15,
   "id": "e383c55e",
   "metadata": {
    "execution": {
     "iopub.execute_input": "2023-08-31T05:15:18.856636Z",
     "iopub.status.busy": "2023-08-31T05:15:18.856349Z",
     "iopub.status.idle": "2023-08-31T05:50:48.560696Z",
     "shell.execute_reply": "2023-08-31T05:50:48.559616Z"
    },
    "id": "G4fdHVvfAI8e",
    "outputId": "6a95d8f0-5de9-4c65-8f10-6b0a4a480bf8",
    "papermill": {
     "duration": 2129.741563,
     "end_time": "2023-08-31T05:50:48.580361",
     "exception": false,
     "start_time": "2023-08-31T05:15:18.838798",
     "status": "completed"
    },
    "tags": []
   },
   "outputs": [
    {
     "data": {
      "application/vnd.jupyter.widget-view+json": {
       "model_id": "bfbbe0a649354b60ad9ffbad0b21a259",
       "version_major": 2,
       "version_minor": 0
      },
      "text/plain": [
       "  0%|          | 0/32 [00:00<?, ?it/s]"
      ]
     },
     "metadata": {},
     "output_type": "display_data"
    },
    {
     "name": "stdout",
     "output_type": "stream",
     "text": [
      "Epoch: 8\n",
      "Train Loss: 0.1132810193374753, Train Accuracy: 0.9645833373069763\n",
      "Valid Loss: 0.08673390461023761, Valid Accuracy: 0.9737499952316284\n",
      "Epoch: 16\n",
      "Train Loss: 0.08275296604881684, Train Accuracy: 0.9740416407585144\n",
      "Valid Loss: 0.06753842216076252, Valid Accuracy: 0.9777500033378601\n",
      "Epoch: 24\n",
      "Train Loss: 0.07366665263473987, Train Accuracy: 0.97677081823349\n",
      "Valid Loss: 0.05826854941285516, Valid Accuracy: 0.9817500114440918\n",
      "Epoch: 32\n",
      "Train Loss: 0.0659567276313901, Train Accuracy: 0.9797916412353516\n",
      "Valid Loss: 0.048910324496528726, Valid Accuracy: 0.9838333129882812\n"
     ]
    }
   ],
   "source": [
    "for epoch in tqdm(range(1, EPOCHS + 1)):\n",
    "  train_metrics_coll.reset(), valid_metrics_coll.reset()\n",
    "\n",
    "  model.train()\n",
    "  train_loss = train(train_loader, model, criterion, optimizer, train_metrics_coll)\n",
    "  \n",
    "  scheduler.step()\n",
    "    \n",
    "  model.eval()\n",
    "  valid_loss = valid(valid_loader, model, criterion, valid_metrics_coll)\n",
    "\n",
    "  tr_met = train_metrics_coll.compute()\n",
    "  vl_met = valid_metrics_coll.compute()\n",
    "\n",
    "  train_metrics.append(tr_met)\n",
    "  valid_metrics.append(vl_met)\n",
    "\n",
    "  train_metrics_vals['loss'].append(train_loss)\n",
    "  valid_metrics_vals['loss'].append(valid_loss)\n",
    "\n",
    "  if not epoch % (EPOCHS * 0.25) or epoch == EPOCHS: # after every 25%\n",
    "    print(f'Epoch: {epoch}')\n",
    "    print(f'Train Loss: {train_loss}, Train Accuracy: {tr_met[\"MulticlassAccuracy\"]}')\n",
    "    print(f'Valid Loss: {valid_loss}, Valid Accuracy: {vl_met[\"MulticlassAccuracy\"]}')"
   ]
  },
  {
   "cell_type": "markdown",
   "id": "f7785152",
   "metadata": {
    "papermill": {
     "duration": 0.016535,
     "end_time": "2023-08-31T05:50:48.613723",
     "exception": false,
     "start_time": "2023-08-31T05:50:48.597188",
     "status": "completed"
    },
    "tags": []
   },
   "source": [
    "# Training and Validation Metrics"
   ]
  },
  {
   "cell_type": "code",
   "execution_count": 16,
   "id": "9b40ad6c",
   "metadata": {
    "execution": {
     "iopub.execute_input": "2023-08-31T05:50:48.649986Z",
     "iopub.status.busy": "2023-08-31T05:50:48.648946Z",
     "iopub.status.idle": "2023-08-31T05:50:48.655020Z",
     "shell.execute_reply": "2023-08-31T05:50:48.654030Z"
    },
    "papermill": {
     "duration": 0.026729,
     "end_time": "2023-08-31T05:50:48.657147",
     "exception": false,
     "start_time": "2023-08-31T05:50:48.630418",
     "status": "completed"
    },
    "tags": []
   },
   "outputs": [
    {
     "name": "stdout",
     "output_type": "stream",
     "text": [
      "Validation Accuracy: 0.9838333129882812\n"
     ]
    }
   ],
   "source": [
    "print(f\"Validation Accuracy: {valid_metrics[len(valid_metrics) - 1]['MulticlassAccuracy'].item()}\")"
   ]
  },
  {
   "cell_type": "code",
   "execution_count": 17,
   "id": "45fee23c",
   "metadata": {
    "execution": {
     "iopub.execute_input": "2023-08-31T05:50:48.693355Z",
     "iopub.status.busy": "2023-08-31T05:50:48.692568Z",
     "iopub.status.idle": "2023-08-31T05:50:48.699660Z",
     "shell.execute_reply": "2023-08-31T05:50:48.698644Z"
    },
    "papermill": {
     "duration": 0.02718,
     "end_time": "2023-08-31T05:50:48.701905",
     "exception": false,
     "start_time": "2023-08-31T05:50:48.674725",
     "status": "completed"
    },
    "tags": []
   },
   "outputs": [
    {
     "name": "stdout",
     "output_type": "stream",
     "text": [
      "MulticlassAccuracy: 0.9797916412353516\n",
      "MulticlassPrecision: 0.9798166751861572\n",
      "MulticlassRecall: 0.9796743392944336\n",
      "MulticlassFBetaScore: 0.9797006249427795\n"
     ]
    }
   ],
   "source": [
    "for key, _ in train_metrics_coll.items():\n",
    "    print(f'{key}: {train_metrics_coll.compute()[key]}')"
   ]
  },
  {
   "cell_type": "code",
   "execution_count": 18,
   "id": "4246226f",
   "metadata": {
    "execution": {
     "iopub.execute_input": "2023-08-31T05:50:48.736869Z",
     "iopub.status.busy": "2023-08-31T05:50:48.736590Z",
     "iopub.status.idle": "2023-08-31T05:50:48.744072Z",
     "shell.execute_reply": "2023-08-31T05:50:48.743175Z"
    },
    "papermill": {
     "duration": 0.02732,
     "end_time": "2023-08-31T05:50:48.746174",
     "exception": false,
     "start_time": "2023-08-31T05:50:48.718854",
     "status": "completed"
    },
    "tags": []
   },
   "outputs": [
    {
     "name": "stdout",
     "output_type": "stream",
     "text": [
      "MulticlassAccuracy: 0.9838333129882812\n",
      "MulticlassPrecision: 0.9845327138900757\n",
      "MulticlassRecall: 0.9835575819015503\n",
      "MulticlassFBetaScore: 0.9837126731872559\n"
     ]
    }
   ],
   "source": [
    "for key, _ in valid_metrics_coll.items():\n",
    "    print(f'{key}: {valid_metrics_coll.compute()[key]}')"
   ]
  },
  {
   "cell_type": "code",
   "execution_count": 19,
   "id": "fa0c1d1f",
   "metadata": {
    "execution": {
     "iopub.execute_input": "2023-08-31T05:50:48.781620Z",
     "iopub.status.busy": "2023-08-31T05:50:48.781341Z",
     "iopub.status.idle": "2023-08-31T05:50:48.793231Z",
     "shell.execute_reply": "2023-08-31T05:50:48.792354Z"
    },
    "papermill": {
     "duration": 0.032252,
     "end_time": "2023-08-31T05:50:48.795446",
     "exception": false,
     "start_time": "2023-08-31T05:50:48.763194",
     "status": "completed"
    },
    "tags": []
   },
   "outputs": [],
   "source": [
    "for metric in train_metrics:\n",
    "    train_metrics_vals['accuracy'].append(metric['MulticlassAccuracy'].cpu())\n",
    "    train_metrics_vals['precision'].append(metric['MulticlassPrecision'].cpu())\n",
    "    train_metrics_vals['recall'].append(metric['MulticlassRecall'].cpu())\n",
    "    train_metrics_vals['fBetaScore'].append(metric['MulticlassFBetaScore'].cpu())\n",
    "    \n",
    "for metric in valid_metrics:\n",
    "    valid_metrics_vals['accuracy'].append(metric['MulticlassAccuracy'].cpu())\n",
    "    valid_metrics_vals['precision'].append(metric['MulticlassPrecision'].cpu())\n",
    "    valid_metrics_vals['recall'].append(metric['MulticlassRecall'].cpu())\n",
    "    valid_metrics_vals['fBetaScore'].append(metric['MulticlassFBetaScore'].cpu())"
   ]
  },
  {
   "cell_type": "markdown",
   "id": "d8c8e3e2",
   "metadata": {
    "papermill": {
     "duration": 0.016845,
     "end_time": "2023-08-31T05:50:48.829393",
     "exception": false,
     "start_time": "2023-08-31T05:50:48.812548",
     "status": "completed"
    },
    "tags": []
   },
   "source": [
    "# Training and Validation Plots"
   ]
  },
  {
   "cell_type": "code",
   "execution_count": 20,
   "id": "a20523ab",
   "metadata": {
    "execution": {
     "iopub.execute_input": "2023-08-31T05:50:48.866048Z",
     "iopub.status.busy": "2023-08-31T05:50:48.864488Z",
     "iopub.status.idle": "2023-08-31T05:50:48.870106Z",
     "shell.execute_reply": "2023-08-31T05:50:48.869267Z"
    },
    "papermill": {
     "duration": 0.025617,
     "end_time": "2023-08-31T05:50:48.872004",
     "exception": false,
     "start_time": "2023-08-31T05:50:48.846387",
     "status": "completed"
    },
    "tags": []
   },
   "outputs": [],
   "source": [
    "plt.rcParams[\"figure.figsize\"] = (10, 5)"
   ]
  },
  {
   "cell_type": "markdown",
   "id": "73bbbfa9",
   "metadata": {
    "papermill": {
     "duration": 0.018137,
     "end_time": "2023-08-31T05:50:48.907114",
     "exception": false,
     "start_time": "2023-08-31T05:50:48.888977",
     "status": "completed"
    },
    "tags": []
   },
   "source": [
    "## Loss"
   ]
  },
  {
   "cell_type": "code",
   "execution_count": 21,
   "id": "327fe169",
   "metadata": {
    "execution": {
     "iopub.execute_input": "2023-08-31T05:50:48.943294Z",
     "iopub.status.busy": "2023-08-31T05:50:48.941918Z",
     "iopub.status.idle": "2023-08-31T05:50:49.293478Z",
     "shell.execute_reply": "2023-08-31T05:50:49.292588Z"
    },
    "papermill": {
     "duration": 0.371445,
     "end_time": "2023-08-31T05:50:49.295558",
     "exception": false,
     "start_time": "2023-08-31T05:50:48.924113",
     "status": "completed"
    },
    "tags": []
   },
   "outputs": [
    {
     "data": {
      "image/png": "[encoded data removed]",
      "text/plain": [
       "<Figure size 1000x500 with 1 Axes>"
      ]
     },
     "metadata": {},
     "output_type": "display_data"
    }
   ],
   "source": [
    "plt.plot(train_metrics_vals['loss'], label=\"Train Loss\")\n",
    "plt.plot(valid_metrics_vals['loss'], label=\"Valid Loss\")\n",
    "\n",
    "plt.xlabel(\"Epoch\")\n",
    "plt.ylabel(\"Loss\")\n",
    "plt.legend()\n",
    "plt.show()"
   ]
  },
  {
   "cell_type": "markdown",
   "id": "31381134",
   "metadata": {
    "papermill": {
     "duration": 0.018194,
     "end_time": "2023-08-31T05:50:49.331934",
     "exception": false,
     "start_time": "2023-08-31T05:50:49.313740",
     "status": "completed"
    },
    "tags": []
   },
   "source": [
    "## Accuracy"
   ]
  },
  {
   "cell_type": "code",
   "execution_count": 22,
   "id": "0630d0e9",
   "metadata": {
    "execution": {
     "iopub.execute_input": "2023-08-31T05:50:49.370492Z",
     "iopub.status.busy": "2023-08-31T05:50:49.370126Z",
     "iopub.status.idle": "2023-08-31T05:50:49.712537Z",
     "shell.execute_reply": "2023-08-31T05:50:49.711517Z"
    },
    "papermill": {
     "duration": 0.365036,
     "end_time": "2023-08-31T05:50:49.714711",
     "exception": false,
     "start_time": "2023-08-31T05:50:49.349675",
     "status": "completed"
    },
    "tags": []
   },
   "outputs": [
    {
     "data": {
      "image/png": "[encoded data removed]",
      "text/plain": [
       "<Figure size 1000x500 with 1 Axes>"
      ]
     },
     "metadata": {},
     "output_type": "display_data"
    }
   ],
   "source": [
    "plt.plot(train_metrics_vals['accuracy'], label=\"Train Accuracy\")\n",
    "plt.plot(valid_metrics_vals['accuracy'], label=\"Valid Accuracy\")\n",
    "\n",
    "plt.xlabel(\"Epoch\")\n",
    "plt.ylabel(\"Accuracy\")\n",
    "plt.legend()\n",
    "plt.show()"
   ]
  },
  {
   "cell_type": "markdown",
   "id": "c45494ae",
   "metadata": {
    "papermill": {
     "duration": 0.018187,
     "end_time": "2023-08-31T05:50:49.751641",
     "exception": false,
     "start_time": "2023-08-31T05:50:49.733454",
     "status": "completed"
    },
    "tags": []
   },
   "source": [
    "## Precision"
   ]
  },
  {
   "cell_type": "code",
   "execution_count": 23,
   "id": "b72daf51",
   "metadata": {
    "execution": {
     "iopub.execute_input": "2023-08-31T05:50:49.789528Z",
     "iopub.status.busy": "2023-08-31T05:50:49.789213Z",
     "iopub.status.idle": "2023-08-31T05:50:50.126379Z",
     "shell.execute_reply": "2023-08-31T05:50:50.125441Z"
    },
    "papermill": {
     "duration": 0.358476,
     "end_time": "2023-08-31T05:50:50.128491",
     "exception": false,
     "start_time": "2023-08-31T05:50:49.770015",
     "status": "completed"
    },
    "tags": []
   },
   "outputs": [
    {
     "data": {
      "image/png": "[encoded data removed]",
      "text/plain": [
       "<Figure size 1000x500 with 1 Axes>"
      ]
     },
     "metadata": {},
     "output_type": "display_data"
    }
   ],
   "source": [
    "plt.plot(train_metrics_vals['precision'], label=\"Train Precision\")\n",
    "plt.plot(valid_metrics_vals['precision'], label=\"Valid Precision\")\n",
    "\n",
    "plt.xlabel(\"Epoch\")\n",
    "plt.ylabel(\"Precision\")\n",
    "plt.legend()\n",
    "plt.show()"
   ]
  },
  {
   "cell_type": "markdown",
   "id": "feea7382",
   "metadata": {
    "papermill": {
     "duration": 0.018929,
     "end_time": "2023-08-31T05:50:50.166558",
     "exception": false,
     "start_time": "2023-08-31T05:50:50.147629",
     "status": "completed"
    },
    "tags": []
   },
   "source": [
    "## Recall"
   ]
  },
  {
   "cell_type": "code",
   "execution_count": 24,
   "id": "9ae824ca",
   "metadata": {
    "execution": {
     "iopub.execute_input": "2023-08-31T05:50:50.205996Z",
     "iopub.status.busy": "2023-08-31T05:50:50.205153Z",
     "iopub.status.idle": "2023-08-31T05:50:50.549870Z",
     "shell.execute_reply": "2023-08-31T05:50:50.548946Z"
    },
    "papermill": {
     "duration": 0.366535,
     "end_time": "2023-08-31T05:50:50.551891",
     "exception": false,
     "start_time": "2023-08-31T05:50:50.185356",
     "status": "completed"
    },
    "tags": []
   },
   "outputs": [
    {
     "data": {
      "image/png": "[encoded data removed]",
      "text/plain": [
       "<Figure size 1000x500 with 1 Axes>"
      ]
     },
     "metadata": {},
     "output_type": "display_data"
    }
   ],
   "source": [
    "plt.plot(train_metrics_vals['recall'], label=\"Train Recall\")\n",
    "plt.plot(valid_metrics_vals['recall'], label=\"Valid Recall\")\n",
    "\n",
    "plt.xlabel(\"Epoch\")\n",
    "plt.ylabel(\"Recall\")\n",
    "plt.legend()\n",
    "plt.show()"
   ]
  },
  {
   "cell_type": "markdown",
   "id": "6c63744f",
   "metadata": {
    "papermill": {
     "duration": 0.019314,
     "end_time": "2023-08-31T05:50:50.590925",
     "exception": false,
     "start_time": "2023-08-31T05:50:50.571611",
     "status": "completed"
    },
    "tags": []
   },
   "source": [
    "## F-Beta Score"
   ]
  },
  {
   "cell_type": "code",
   "execution_count": 25,
   "id": "0f0fb0e1",
   "metadata": {
    "execution": {
     "iopub.execute_input": "2023-08-31T05:50:50.631433Z",
     "iopub.status.busy": "2023-08-31T05:50:50.630641Z",
     "iopub.status.idle": "2023-08-31T05:50:50.981314Z",
     "shell.execute_reply": "2023-08-31T05:50:50.980421Z"
    },
    "papermill": {
     "duration": 0.373233,
     "end_time": "2023-08-31T05:50:50.983538",
     "exception": false,
     "start_time": "2023-08-31T05:50:50.610305",
     "status": "completed"
    },
    "tags": []
   },
   "outputs": [
    {
     "data": {
      "image/png": "[encoded data removed]",
      "text/plain": [
       "<Figure size 1000x500 with 1 Axes>"
      ]
     },
     "metadata": {},
     "output_type": "display_data"
    }
   ],
   "source": [
    "plt.plot(train_metrics_vals['fBetaScore'], label=\"Train FBetaScore\")\n",
    "plt.plot(valid_metrics_vals['fBetaScore'], label=\"Valid FBetaScore\")\n",
    "\n",
    "plt.xlabel(\"Epoch\")\n",
    "plt.ylabel(\"F Beta Score\")\n",
    "plt.legend()\n",
    "plt.show()"
   ]
  },
  {
   "cell_type": "markdown",
   "id": "c852853c",
   "metadata": {
    "papermill": {
     "duration": 0.019847,
     "end_time": "2023-08-31T05:50:51.023870",
     "exception": false,
     "start_time": "2023-08-31T05:50:51.004023",
     "status": "completed"
    },
    "tags": []
   },
   "source": [
    "# Testing"
   ]
  },
  {
   "cell_type": "code",
   "execution_count": 26,
   "id": "8fb45973",
   "metadata": {
    "execution": {
     "iopub.execute_input": "2023-08-31T05:50:51.065895Z",
     "iopub.status.busy": "2023-08-31T05:50:51.065307Z",
     "iopub.status.idle": "2023-08-31T05:50:57.838367Z",
     "shell.execute_reply": "2023-08-31T05:50:57.837229Z"
    },
    "papermill": {
     "duration": 6.79656,
     "end_time": "2023-08-31T05:50:57.840807",
     "exception": false,
     "start_time": "2023-08-31T05:50:51.044247",
     "status": "completed"
    },
    "tags": []
   },
   "outputs": [
    {
     "name": "stdout",
     "output_type": "stream",
     "text": [
      "Test Loss: 0.01615580576971133\n"
     ]
    }
   ],
   "source": [
    "model.eval()\n",
    "test_loss = test(test_loader, model, criterion, test_metrics_coll)\n",
    "te_met = test_metrics_coll.compute()\n",
    "test_metrics.append(te_met)\n",
    "print(f'Test Loss: {test_loss}')"
   ]
  },
  {
   "cell_type": "markdown",
   "id": "6e1535d0",
   "metadata": {
    "papermill": {
     "duration": 0.019971,
     "end_time": "2023-08-31T05:50:57.881615",
     "exception": false,
     "start_time": "2023-08-31T05:50:57.861644",
     "status": "completed"
    },
    "tags": []
   },
   "source": [
    "# Test Metrics"
   ]
  },
  {
   "cell_type": "code",
   "execution_count": 27,
   "id": "0672c9fb",
   "metadata": {
    "execution": {
     "iopub.execute_input": "2023-08-31T05:50:57.924051Z",
     "iopub.status.busy": "2023-08-31T05:50:57.923703Z",
     "iopub.status.idle": "2023-08-31T05:50:57.934708Z",
     "shell.execute_reply": "2023-08-31T05:50:57.933488Z"
    },
    "papermill": {
     "duration": 0.034579,
     "end_time": "2023-08-31T05:50:57.936775",
     "exception": false,
     "start_time": "2023-08-31T05:50:57.902196",
     "status": "completed"
    },
    "tags": []
   },
   "outputs": [
    {
     "name": "stdout",
     "output_type": "stream",
     "text": [
      "MulticlassAccuracy: 0.9944999814033508\n",
      "MulticlassPrecision: 0.994543194770813\n",
      "MulticlassRecall: 0.9944608807563782\n",
      "MulticlassFBetaScore: 0.9944673776626587\n",
      "MulticlassConfusionMatrix: tensor([[ 979,    0,    0,    0,    0,    0,    0,    1,    0,    0],\n",
      "        [   0, 1129,    0,    0,    0,    0,    0,    6,    0,    0],\n",
      "        [   1,    0, 1024,    0,    0,    0,    0,    7,    0,    0],\n",
      "        [   0,    0,    0, 1009,    0,    1,    0,    0,    0,    0],\n",
      "        [   0,    0,    0,    0,  978,    0,    0,    1,    0,    3],\n",
      "        [   0,    0,    0,    5,    0,  882,    2,    2,    0,    1],\n",
      "        [   3,    1,    0,    0,    0,    0,  954,    0,    0,    0],\n",
      "        [   0,    1,    1,    0,    0,    0,    0, 1026,    0,    0],\n",
      "        [   0,    0,    1,    0,    1,    1,    0,    0,  971,    0],\n",
      "        [   0,    0,    0,    0,    8,    2,    0,    4,    2,  993]],\n",
      "       device='cuda:0')\n"
     ]
    }
   ],
   "source": [
    "for key, _ in test_metrics_coll.items():\n",
    "    print(f'{key}: {test_metrics_coll.compute()[key]}')"
   ]
  },
  {
   "cell_type": "markdown",
   "id": "30a87317",
   "metadata": {
    "papermill": {
     "duration": 0.019933,
     "end_time": "2023-08-31T05:50:57.977262",
     "exception": false,
     "start_time": "2023-08-31T05:50:57.957329",
     "status": "completed"
    },
    "tags": []
   },
   "source": [
    "# Confusion Matrix"
   ]
  },
  {
   "cell_type": "code",
   "execution_count": 28,
   "id": "3309f45f",
   "metadata": {
    "execution": {
     "iopub.execute_input": "2023-08-31T05:50:58.019284Z",
     "iopub.status.busy": "2023-08-31T05:50:58.018459Z",
     "iopub.status.idle": "2023-08-31T05:50:58.684450Z",
     "shell.execute_reply": "2023-08-31T05:50:58.683519Z"
    },
    "papermill": {
     "duration": 0.68956,
     "end_time": "2023-08-31T05:50:58.686884",
     "exception": false,
     "start_time": "2023-08-31T05:50:57.997324",
     "status": "completed"
    },
    "tags": []
   },
   "outputs": [
    {
     "data": {
      "image/png": "[encoded data removed]",
      "text/plain": [
       "<Figure size 1000x500 with 2 Axes>"
      ]
     },
     "metadata": {},
     "output_type": "display_data"
    }
   ],
   "source": [
    "df_cm = pd.DataFrame(test_metrics[len(test_metrics) - 1]['MulticlassConfusionMatrix'].cpu().numpy(), index = train_valid_dataset.classes, columns = train_valid_dataset.classes)\n",
    "sns.heatmap(df_cm, annot=True, cmap='Blues', fmt='d').set_title('Confusion Matrix')\n",
    "plt.yticks(rotation=0)\n",
    "plt.show()"
   ]
  },
  {
   "cell_type": "markdown",
   "id": "b0b6db54",
   "metadata": {
    "papermill": {
     "duration": 0.020949,
     "end_time": "2023-08-31T05:50:58.730617",
     "exception": false,
     "start_time": "2023-08-31T05:50:58.709668",
     "status": "completed"
    },
    "tags": []
   },
   "source": [
    "# Export Model"
   ]
  },
  {
   "cell_type": "code",
   "execution_count": 29,
   "id": "b152896d",
   "metadata": {
    "execution": {
     "iopub.execute_input": "2023-08-31T05:50:58.774293Z",
     "iopub.status.busy": "2023-08-31T05:50:58.773983Z",
     "iopub.status.idle": "2023-08-31T05:50:59.020370Z",
     "shell.execute_reply": "2023-08-31T05:50:59.019218Z"
    },
    "id": "8lXjRoLtQcAW",
    "papermill": {
     "duration": 0.271173,
     "end_time": "2023-08-31T05:50:59.023163",
     "exception": false,
     "start_time": "2023-08-31T05:50:58.751990",
     "status": "completed"
    },
    "tags": []
   },
   "outputs": [
    {
     "name": "stdout",
     "output_type": "stream",
     "text": [
      "================ Diagnostic Run torch.onnx.export version 2.0.0 ================\n",
      "verbose: False, log level: Level.ERROR\n",
      "======================= 0 NONE 0 NOTE 0 WARNING 0 ERROR ========================\n",
      "\n"
     ]
    }
   ],
   "source": [
    "model.eval()\n",
    "dummy_input = torch.randn(1, 1, 28, 28, requires_grad=False).to(DEVICE)\n",
    "\n",
    "torch.onnx.export(model, dummy_input, \"model.onnx\", export_params=True)"
   ]
  }
 ],
 "kernelspec": {
  "display_name": "Python 3",
  "language": "python",
  "name": "python3"
 },
 "language_info": {
  "codemirror_mode": {
   "name": "ipython",
   "version": 3
  },
  "file_extension": ".py",
  "mimetype": "text/x-python",
  "name": "python",
  "nbconvert_exporter": "python",
  "pygments_lexer": "ipython3",
  "version": "3.6.4"
 },
 "metadata": {
  "kernelspec": {
   "display_name": "Python 3",
   "language": "python",
   "name": "python3"
  },
  "language_info": {
   "codemirror_mode": {
    "name": "ipython",
    "version": 3
   },
   "file_extension": ".py",
   "mimetype": "text/x-python",
   "name": "python",
   "nbconvert_exporter": "python",
   "pygments_lexer": "ipython3",
   "version": "3.10.12"
  },
  "papermill": {
   "default_parameters": {},
   "duration": 2192.111043,
   "end_time": "2023-08-31T05:51:02.046176",
   "environment_variables": {},
   "exception": null,
   "input_path": "__notebook__.ipynb",
   "output_path": "__notebook__.ipynb",
   "parameters": {},
   "start_time": "2023-08-31T05:14:29.935133",
   "version": "2.4.0"
  },
  "widgets": {
   "application/vnd.jupyter.widget-state+json": {
    "state": {
     "10f60ac9d1af4b4790e3f14da7212545": {
      "model_module": "@jupyter-widgets/base",
      "model_module_version": "1.2.0",
      "model_name": "LayoutModel",
      "state": {
       "_model_module": "@jupyter-widgets/base",
       "_model_module_version": "1.2.0",
       "_model_name": "LayoutModel",
       "_view_count": null,
       "_view_module": "@jupyter-widgets/base",
       "_view_module_version": "1.2.0",
       "_view_name": "LayoutView",
       "align_content": null,
       "align_items": null,
       "align_self": null,
       "border": null,
       "bottom": null,
       "display": null,
       "flex": null,
       "flex_flow": null,
       "grid_area": null,
       "grid_auto_columns": null,
       "grid_auto_flow": null,
       "grid_auto_rows": null,
       "grid_column": null,
       "grid_gap": null,
       "grid_row": null,
       "grid_template_areas": null,
       "grid_template_columns": null,
       "grid_template_rows": null,
       "height": null,
       "justify_content": null,
       "justify_items": null,
       "left": null,
       "margin": null,
       "max_height": null,
       "max_width": null,
       "min_height": null,
       "min_width": null,
       "object_fit": null,
       "object_position": null,
       "order": null,
       "overflow": null,
       "overflow_x": null,
       "overflow_y": null,
       "padding": null,
       "right": null,
       "top": null,
       "visibility": null,
       "width": null
      }
     },
     "2202ea7acfe4438888d2eb799e1e926b": {
      "model_module": "@jupyter-widgets/base",
      "model_module_version": "1.2.0",
      "model_name": "LayoutModel",
      "state": {
       "_model_module": "@jupyter-widgets/base",
       "_model_module_version": "1.2.0",
       "_model_name": "LayoutModel",
       "_view_count": null,
       "_view_module": "@jupyter-widgets/base",
       "_view_module_version": "1.2.0",
       "_view_name": "LayoutView",
       "align_content": null,
       "align_items": null,
       "align_self": null,
       "border": null,
       "bottom": null,
       "display": null,
       "flex": null,
       "flex_flow": null,
       "grid_area": null,
       "grid_auto_columns": null,
       "grid_auto_flow": null,
       "grid_auto_rows": null,
       "grid_column": null,
       "grid_gap": null,
       "grid_row": null,
       "grid_template_areas": null,
       "grid_template_columns": null,
       "grid_template_rows": null,
       "height": null,
       "justify_content": null,
       "justify_items": null,
       "left": null,
       "margin": null,
       "max_height": null,
       "max_width": null,
       "min_height": null,
       "min_width": null,
       "object_fit": null,
       "object_position": null,
       "order": null,
       "overflow": null,
       "overflow_x": null,
       "overflow_y": null,
       "padding": null,
       "right": null,
       "top": null,
       "visibility": null,
       "width": null
      }
     },
     "460a46923d024c00a91e607c058380fd": {
      "model_module": "@jupyter-widgets/controls",
      "model_module_version": "1.5.0",
      "model_name": "HTMLModel",
      "state": {
       "_dom_classes": [],
       "_model_module": "@jupyter-widgets/controls",
       "_model_module_version": "1.5.0",
       "_model_name": "HTMLModel",
       "_view_count": null,
       "_view_module": "@jupyter-widgets/controls",
       "_view_module_version": "1.5.0",
       "_view_name": "HTMLView",
       "description": "",
       "description_tooltip": null,
       "layout": "IPY_MODEL_2202ea7acfe4438888d2eb799e1e926b",
       "placeholder": "​",
       "style": "IPY_MODEL_c810294f71564b10add9b101c859d11f",
       "value": "100%"
      }
     },
     "5d7902c554c148b5907be93a1b4d2849": {
      "model_module": "@jupyter-widgets/controls",
      "model_module_version": "1.5.0",
      "model_name": "DescriptionStyleModel",
      "state": {
       "_model_module": "@jupyter-widgets/controls",
       "_model_module_version": "1.5.0",
       "_model_name": "DescriptionStyleModel",
       "_view_count": null,
       "_view_module": "@jupyter-widgets/base",
       "_view_module_version": "1.2.0",
       "_view_name": "StyleView",
       "description_width": ""
      }
     },
     "6db19ab1ad474821bf55d016c2866e76": {
      "model_module": "@jupyter-widgets/controls",
      "model_module_version": "1.5.0",
      "model_name": "HTMLModel",
      "state": {
       "_dom_classes": [],
       "_model_module": "@jupyter-widgets/controls",
       "_model_module_version": "1.5.0",
       "_model_name": "HTMLModel",
       "_view_count": null,
       "_view_module": "@jupyter-widgets/controls",
       "_view_module_version": "1.5.0",
       "_view_name": "HTMLView",
       "description": "",
       "description_tooltip": null,
       "layout": "IPY_MODEL_10f60ac9d1af4b4790e3f14da7212545",
       "placeholder": "​",
       "style": "IPY_MODEL_5d7902c554c148b5907be93a1b4d2849",
       "value": " 32/32 [35:29&lt;00:00, 65.54s/it]"
      }
     },
     "7914bdfec09a40dba2a44138dc6a9f96": {
      "model_module": "@jupyter-widgets/controls",
      "model_module_version": "1.5.0",
      "model_name": "FloatProgressModel",
      "state": {
       "_dom_classes": [],
       "_model_module": "@jupyter-widgets/controls",
       "_model_module_version": "1.5.0",
       "_model_name": "FloatProgressModel",
       "_view_count": null,
       "_view_module": "@jupyter-widgets/controls",
       "_view_module_version": "1.5.0",
       "_view_name": "ProgressView",
       "bar_style": "success",
       "description": "",
       "description_tooltip": null,
       "layout": "IPY_MODEL_f1766399378046a1b4fcfe354c884601",
       "max": 32.0,
       "min": 0.0,
       "orientation": "horizontal",
       "style": "IPY_MODEL_8411ec42e58947b0b1ef1be2c9356755",
       "value": 32.0
      }
     },
     "8411ec42e58947b0b1ef1be2c9356755": {
      "model_module": "@jupyter-widgets/controls",
      "model_module_version": "1.5.0",
      "model_name": "ProgressStyleModel",
      "state": {
       "_model_module": "@jupyter-widgets/controls",
       "_model_module_version": "1.5.0",
       "_model_name": "ProgressStyleModel",
       "_view_count": null,
       "_view_module": "@jupyter-widgets/base",
       "_view_module_version": "1.2.0",
       "_view_name": "StyleView",
       "bar_color": null,
       "description_width": ""
      }
     },
     "bfbbe0a649354b60ad9ffbad0b21a259": {
      "model_module": "@jupyter-widgets/controls",
      "model_module_version": "1.5.0",
      "model_name": "HBoxModel",
      "state": {
       "_dom_classes": [],
       "_model_module": "@jupyter-widgets/controls",
       "_model_module_version": "1.5.0",
       "_model_name": "HBoxModel",
       "_view_count": null,
       "_view_module": "@jupyter-widgets/controls",
       "_view_module_version": "1.5.0",
       "_view_name": "HBoxView",
       "box_style": "",
       "children": [
        "IPY_MODEL_460a46923d024c00a91e607c058380fd",
        "IPY_MODEL_7914bdfec09a40dba2a44138dc6a9f96",
        "IPY_MODEL_6db19ab1ad474821bf55d016c2866e76"
       ],
       "layout": "IPY_MODEL_d9ddb4b861c64a0bb5f8a31a74510fb3"
      }
     },
     "c810294f71564b10add9b101c859d11f": {
      "model_module": "@jupyter-widgets/controls",
      "model_module_version": "1.5.0",
      "model_name": "DescriptionStyleModel",
      "state": {
       "_model_module": "@jupyter-widgets/controls",
       "_model_module_version": "1.5.0",
       "_model_name": "DescriptionStyleModel",
       "_view_count": null,
       "_view_module": "@jupyter-widgets/base",
       "_view_module_version": "1.2.0",
       "_view_name": "StyleView",
       "description_width": ""
      }
     },
     "d9ddb4b861c64a0bb5f8a31a74510fb3": {
      "model_module": "@jupyter-widgets/base",
      "model_module_version": "1.2.0",
      "model_name": "LayoutModel",
      "state": {
       "_model_module": "@jupyter-widgets/base",
       "_model_module_version": "1.2.0",
       "_model_name": "LayoutModel",
       "_view_count": null,
       "_view_module": "@jupyter-widgets/base",
       "_view_module_version": "1.2.0",
       "_view_name": "LayoutView",
       "align_content": null,
       "align_items": null,
       "align_self": null,
       "border": null,
       "bottom": null,
       "display": null,
       "flex": null,
       "flex_flow": null,
       "grid_area": null,
       "grid_auto_columns": null,
       "grid_auto_flow": null,
       "grid_auto_rows": null,
       "grid_column": null,
       "grid_gap": null,
       "grid_row": null,
       "grid_template_areas": null,
       "grid_template_columns": null,
       "grid_template_rows": null,
       "height": null,
       "justify_content": null,
       "justify_items": null,
       "left": null,
       "margin": null,
       "max_height": null,
       "max_width": null,
       "min_height": null,
       "min_width": null,
       "object_fit": null,
       "object_position": null,
       "order": null,
       "overflow": null,
       "overflow_x": null,
       "overflow_y": null,
       "padding": null,
       "right": null,
       "top": null,
       "visibility": null,
       "width": null
      }
     },
     "f1766399378046a1b4fcfe354c884601": {
      "model_module": "@jupyter-widgets/base",
      "model_module_version": "1.2.0",
      "model_name": "LayoutModel",
      "state": {
       "_model_module": "@jupyter-widgets/base",
       "_model_module_version": "1.2.0",
       "_model_name": "LayoutModel",
       "_view_count": null,
       "_view_module": "@jupyter-widgets/base",
       "_view_module_version": "1.2.0",
       "_view_name": "LayoutView",
       "align_content": null,
       "align_items": null,
       "align_self": null,
       "border": null,
       "bottom": null,
       "display": null,
       "flex": null,
       "flex_flow": null,
       "grid_area": null,
       "grid_auto_columns": null,
       "grid_auto_flow": null,
       "grid_auto_rows": null,
       "grid_column": null,
       "grid_gap": null,
       "grid_row": null,
       "grid_template_areas": null,
       "grid_template_columns": null,
       "grid_template_rows": null,
       "height": null,
       "justify_content": null,
       "justify_items": null,
       "left": null,
       "margin": null,
       "max_height": null,
       "max_width": null,
       "min_height": null,
       "min_width": null,
       "object_fit": null,
       "object_position": null,
       "order": null,
       "overflow": null,
       "overflow_x": null,
       "overflow_y": null,
       "padding": null,
       "right": null,
       "top": null,
       "visibility": null,
       "width": null
      }
     }
    },
    "version_major": 2,
    "version_minor": 0
   }
  }
 },
 "nbformat": 4,
 "nbformat_minor": 5
}
